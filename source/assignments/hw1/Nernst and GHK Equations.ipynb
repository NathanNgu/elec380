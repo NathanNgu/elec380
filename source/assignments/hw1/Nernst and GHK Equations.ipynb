{
 "cells": [
  {
   "cell_type": "code",
   "execution_count": 6,
   "id": "2fc4ef8a",
   "metadata": {},
   "outputs": [],
   "source": [
    "K_out = 14\n",
    "K_in = 150\n",
    "P_K = 1\n",
    "Na_out = 200\n",
    "Na_in = 20\n",
    "P_Na = 0.04\n",
    "Cl_out = 220\n",
    "Cl_in = 4.2\n",
    "P_Cl = 0.45"
   ]
  },
  {
   "cell_type": "code",
   "execution_count": 2,
   "id": "4879faf3",
   "metadata": {},
   "outputs": [
    {
     "name": "stdout",
     "output_type": "stream",
     "text": [
      "0.02628140407260929\n"
     ]
    }
   ],
   "source": [
    "R = 8.314 # J /K/mol\n",
    "T = 32 + 273\n",
    "F = 96485.3321\n",
    "print(R*T/F)"
   ]
  },
  {
   "cell_type": "code",
   "execution_count": 3,
   "id": "3b58fc5f",
   "metadata": {},
   "outputs": [],
   "source": [
    "import math"
   ]
  },
  {
   "cell_type": "code",
   "execution_count": 4,
   "id": "22c92a8b",
   "metadata": {},
   "outputs": [
    {
     "name": "stdout",
     "output_type": "stream",
     "text": [
      "60.51516924054316\n"
     ]
    }
   ],
   "source": [
    "Equlibrium_Na = R*T/F * math.log(Na_out/Na_in)\n",
    "print(Equlibrium_Na*1000)"
   ]
  },
  {
   "cell_type": "code",
   "execution_count": 7,
   "id": "2cb0e2a7",
   "metadata": {},
   "outputs": [
    {
     "name": "stdout",
     "output_type": "stream",
     "text": [
      "-62.328398774221334\n"
     ]
    }
   ],
   "source": [
    "Equlibrium_K = R*T/F * math.log(K_out/K_in)\n",
    "print(Equlibrium_K*1000)"
   ]
  },
  {
   "cell_type": "code",
   "execution_count": 81,
   "id": "e682fa53",
   "metadata": {},
   "outputs": [
    {
     "name": "stdout",
     "output_type": "stream",
     "text": [
      "-67.85931899183292\n"
     ]
    }
   ],
   "source": [
    "Equilibrium = R*T/F * math.log( (P_Na * Na_out + P_K * K_out + P_Cl * Cl_in) /\n",
    "                               (P_Na * Na_in + P_K * K_in + P_Cl * Cl_out))\n",
    "print(Equilibrium*1000)"
   ]
  },
  {
   "cell_type": "code",
   "execution_count": 82,
   "id": "9f834d93",
   "metadata": {},
   "outputs": [
    {
     "name": "stdout",
     "output_type": "stream",
     "text": [
      "60.51516924054316\n"
     ]
    }
   ],
   "source": [
    "Equlibrium_Na = R*T/F * math.log(Na_out/Na_in)\n",
    "print(Equlibrium_Na*1000)"
   ]
  },
  {
   "cell_type": "code",
   "execution_count": null,
   "id": "51318472",
   "metadata": {},
   "outputs": [],
   "source": []
  }
 ],
 "metadata": {
  "kernelspec": {
   "display_name": "Python 3 (ipykernel)",
   "language": "python",
   "name": "python3"
  },
  "language_info": {
   "codemirror_mode": {
    "name": "ipython",
    "version": 3
   },
   "file_extension": ".py",
   "mimetype": "text/x-python",
   "name": "python",
   "nbconvert_exporter": "python",
   "pygments_lexer": "ipython3",
   "version": "3.9.13"
  }
 },
 "nbformat": 4,
 "nbformat_minor": 5
}
