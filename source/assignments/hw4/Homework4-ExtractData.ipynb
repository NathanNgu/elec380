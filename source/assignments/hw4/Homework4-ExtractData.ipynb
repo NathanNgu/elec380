{
 "cells": [
  {
   "cell_type": "code",
   "execution_count": 1,
   "id": "1b6b5135",
   "metadata": {},
   "outputs": [],
   "source": [
    "import numpy as np\n",
    "import matplotlib.pyplot as plt\n",
    "import seaborn as sns\n"
   ]
  },
  {
   "cell_type": "code",
   "execution_count": 2,
   "id": "3770d748",
   "metadata": {},
   "outputs": [],
   "source": [
    "sns.set_style(\"white\")\n",
    "sns.set_style(\"ticks\")"
   ]
  },
  {
   "cell_type": "code",
   "execution_count": 3,
   "id": "9e7d8cd9",
   "metadata": {},
   "outputs": [
    {
     "name": "stdout",
     "output_type": "stream",
     "text": [
      "['r', 'numUnits', 'cfr', 'dataset', 'classes', 'cInds', 'NC', 'targets', 'NumberInClass', 'RT', 'numTrials', 'pp']\n",
      "['__abstractmethods__', '__class__', '__class_getitem__', '__contains__', '__del__', '__delattr__', '__dict__', '__dir__', '__doc__', '__enter__', '__eq__', '__exit__', '__format__', '__ge__', '__getattribute__', '__getitem__', '__gt__', '__hash__', '__init__', '__init_subclass__', '__iter__', '__le__', '__len__', '__lt__', '__module__', '__ne__', '__new__', '__reduce__', '__reduce_ex__', '__repr__', '__reversed__', '__setattr__', '__sizeof__', '__slots__', '__str__', '__subclasshook__', '__weakref__', '_abc_impl', '_files', 'allow_pickle', 'close', 'f', 'fid', 'files', 'get', 'items', 'iteritems', 'iterkeys', 'keys', 'pickle_kwargs', 'values', 'zip']\n"
     ]
    }
   ],
   "source": [
    "ReachData = np.load('ReachData.npz', allow_pickle=True)\n",
    "\n",
    "print(ReachData.files)\n",
    "\n",
    "### to find out the fields of a Python structure/dictionary, the command \"dir\" is useful\n",
    "print(dir(ReachData))"
   ]
  },
  {
   "cell_type": "code",
   "execution_count": 4,
   "id": "bc97509a",
   "metadata": {},
   "outputs": [],
   "source": [
    "r = ReachData['r']\n",
    "\n",
    "spike_times = [] # This will be a list across trials of a list across units of np arrays of spike times \n",
    "time_touch_held = []\n",
    "time_go_cue = []\n",
    "time_target_acquired = []\n",
    "for trial in r:\n",
    "    spike_times.append([u.spikeTimes if type(u.spikeTimes) is np.ndarray \\\n",
    "                           else np.array([u.spikeTimes]) for u in trial.unit])\n",
    "    time_touch_held.append(trial.timeTouchHeld)\n",
    "    time_go_cue.append(trial.timeGoCue)\n",
    "    time_target_acquired.append(trial.timeTargetAcquire)\n",
    "\n",
    "time_touch_held = np.array(time_touch_held)\n",
    "time_go_cue = np.array(time_go_cue)\n",
    "time_target_acquired = np.array(time_target_acquired)"
   ]
  },
  {
   "cell_type": "code",
   "execution_count": 5,
   "id": "0cba1b6e",
   "metadata": {},
   "outputs": [],
   "source": [
    "directions = ReachData['targets']"
   ]
  },
  {
   "cell_type": "code",
   "execution_count": 6,
   "id": "36224953",
   "metadata": {},
   "outputs": [
    {
     "data": {
      "text/plain": [
       "array([[-98, -17],\n",
       "       [-86,  50],\n",
       "       [-64, -76],\n",
       "       [-34,  93],\n",
       "       [ 34,  93],\n",
       "       [ 64, -76],\n",
       "       [ 86,  50],\n",
       "       [ 98, -17]], dtype=int16)"
      ]
     },
     "execution_count": 6,
     "metadata": {},
     "output_type": "execute_result"
    }
   ],
   "source": [
    "directions"
   ]
  },
  {
   "cell_type": "code",
   "execution_count": 7,
   "id": "d4acd0fe",
   "metadata": {},
   "outputs": [
    {
     "data": {
      "image/png": "[encoded data removed]",
      "text/plain": [
       "<Figure size 432x288 with 1 Axes>"
      ]
     },
     "metadata": {
      "needs_background": "light"
     },
     "output_type": "display_data"
    }
   ],
   "source": [
    "fig, ax = plt.subplots(1, 1)\n",
    "ax.plot(directions[:,0], directions[:,1],'.')\n",
    "for c, d in enumerate(directions):\n",
    "    plt.text(directions[c,0], directions[c,1], '{}'.format(c+1),horizontalalignment='center',\n",
    "         verticalalignment='center', fontsize=18)"
   ]
  },
  {
   "cell_type": "code",
   "execution_count": 8,
   "id": "c401e0e0",
   "metadata": {},
   "outputs": [],
   "source": [
    "cfr = ReachData['cfr']"
   ]
  },
  {
   "cell_type": "code",
   "execution_count": 9,
   "id": "99d14afd",
   "metadata": {},
   "outputs": [
    {
     "data": {
      "text/plain": [
       "1127"
      ]
     },
     "execution_count": 9,
     "metadata": {},
     "output_type": "execute_result"
    }
   ],
   "source": [
    "len(cfr)"
   ]
  },
  {
   "cell_type": "code",
   "execution_count": 10,
   "id": "60a6bfa2",
   "metadata": {},
   "outputs": [
    {
     "data": {
      "text/plain": [
       "array([1, 2, 3, 4, 5, 6, 7, 8], dtype=uint8)"
      ]
     },
     "execution_count": 10,
     "metadata": {},
     "output_type": "execute_result"
    }
   ],
   "source": [
    "np.unique(cfr)"
   ]
  },
  {
   "cell_type": "code",
   "execution_count": 11,
   "id": "6d046671",
   "metadata": {},
   "outputs": [],
   "source": [
    "first_trial = r[0]\n",
    "#dir(first_trial.TrialParams)"
   ]
  },
  {
   "cell_type": "code",
   "execution_count": 12,
   "id": "35ce98b4",
   "metadata": {},
   "outputs": [
    {
     "data": {
      "text/plain": [
       "(-34, 93)"
      ]
     },
     "execution_count": 12,
     "metadata": {},
     "output_type": "execute_result"
    }
   ],
   "source": [
    "r[0].TrialParams.target1X, r[0].TrialParams.target1Y"
   ]
  },
  {
   "cell_type": "code",
   "execution_count": 13,
   "id": "4f98598b",
   "metadata": {},
   "outputs": [
    {
     "data": {
      "text/plain": [
       "4"
      ]
     },
     "execution_count": 13,
     "metadata": {},
     "output_type": "execute_result"
    }
   ],
   "source": [
    "cfr[0]"
   ]
  },
  {
   "cell_type": "code",
   "execution_count": 14,
   "id": "68c19967",
   "metadata": {},
   "outputs": [],
   "source": [
    "# first: turn directions into unit vectors:\n",
    "unit_angles = np.arctan2(directions[:,0], directions[:,1])\n",
    "\n",
    "sort_inds = np.argsort(unit_angles)\n",
    "# unit_angles = unit_angles[sorted_classes]/np.pi * 180\n",
    "unit_angles = unit_angles[sort_inds]/np.pi * 180\n",
    "sorted_classes = np.linspace(1,8,8, dtype=int)[sort_inds]\n",
    "new_class_lookup = np.argsort(sort_inds)\n",
    "\n",
    "target_locations = directions[sort_inds,:]"
   ]
  },
  {
   "cell_type": "code",
   "execution_count": 15,
   "id": "3ab9287b",
   "metadata": {},
   "outputs": [
    {
     "data": {
      "text/plain": [
       "array([4, 1, 7, 5, 6, 8, 8, 4, 7, 1, 1, 5, 7, 2, 3, 8, 7, 4, 2, 5],\n",
       "      dtype=uint8)"
      ]
     },
     "execution_count": 15,
     "metadata": {},
     "output_type": "execute_result"
    }
   ],
   "source": [
    "cfr[:20]"
   ]
  },
  {
   "cell_type": "code",
   "execution_count": 16,
   "id": "2d89f61c",
   "metadata": {},
   "outputs": [],
   "source": [
    "trial_reach_target = new_class_lookup[cfr-1]"
   ]
  },
  {
   "cell_type": "code",
   "execution_count": 17,
   "id": "39de502c",
   "metadata": {},
   "outputs": [
    {
     "data": {
      "text/plain": [
       "array([3, 1, 5, 4, 7, 6, 6, 3, 5, 1, 1, 4, 5, 2, 0, 6, 5, 3, 2, 4])"
      ]
     },
     "execution_count": 17,
     "metadata": {},
     "output_type": "execute_result"
    }
   ],
   "source": [
    "trial_reach_target[:20]"
   ]
  },
  {
   "cell_type": "code",
   "execution_count": 18,
   "id": "f70ba34c",
   "metadata": {},
   "outputs": [
    {
     "data": {
      "text/plain": [
       "array([-139.8991  ,  -99.84113 ,  -59.826477,  -20.081976,   20.081976,\n",
       "         59.826477,   99.84113 ,  139.8991  ], dtype=float32)"
      ]
     },
     "execution_count": 18,
     "metadata": {},
     "output_type": "execute_result"
    }
   ],
   "source": [
    "unit_angles"
   ]
  },
  {
   "cell_type": "code",
   "execution_count": 19,
   "id": "6e4da878",
   "metadata": {},
   "outputs": [
    {
     "data": {
      "image/png": "[encoded data removed]",
      "text/plain": [
       "<Figure size 432x288 with 2 Axes>"
      ]
     },
     "metadata": {
      "needs_background": "light"
     },
     "output_type": "display_data"
    }
   ],
   "source": [
    "fig, ax = plt.subplots(1, 2, subplot_kw={'projection': 'polar'})\n",
    "ax[0].plot(unit_angles/180*np.pi, np.ones(8),'o-')\n",
    "ax[0].set_theta_zero_location('N')\n",
    "ax[0].set_theta_direction(-1)  # theta increasing clockwise\n",
    "for c, th in enumerate(unit_angles):\n",
    "    ax[0].text(th/180*np.pi, 1, '{}'.format(c),horizontalalignment='center',\n",
    "         verticalalignment='center', fontsize=18)\n",
    "    \n",
    "ax[1].remove()\n",
    "ax2 = fig.add_subplot(1,2,2)\n",
    "ax2.plot(directions[:,0], directions[:,1],'.')\n",
    "ax2.set_aspect('equal')\n",
    "for c, d in enumerate(directions):\n",
    "    ax2.text(directions[c,0], directions[c,1], '{}'.format(c+1),horizontalalignment='center',\n",
    "         verticalalignment='center', fontsize=18)"
   ]
  },
  {
   "cell_type": "code",
   "execution_count": 51,
   "id": "79e40994",
   "metadata": {},
   "outputs": [],
   "source": [
    "\n",
    "with open('homework4_metadata.npy', 'wb') as datafile:\n",
    "    np.savez(datafile, time_touch_held=time_touch_held,\n",
    "                time_go_cue=time_go_cue,\n",
    "                time_target_acquired=time_target_acquired,\n",
    "                trial_reach_target=trial_reach_target,\n",
    "                target_locations=target_locations,\n",
    "                target_angles=unit_angles)"
   ]
  },
  {
   "cell_type": "code",
   "execution_count": 40,
   "id": "c3f79b96",
   "metadata": {},
   "outputs": [
    {
     "data": {
      "text/plain": [
       "array([1050.16458333, 1079.92604167])"
      ]
     },
     "execution_count": 40,
     "metadata": {},
     "output_type": "execute_result"
    }
   ],
   "source": [
    "spike_times[-1][0]"
   ]
  },
  {
   "cell_type": "code",
   "execution_count": 52,
   "id": "ac1ff3b4",
   "metadata": {},
   "outputs": [],
   "source": [
    "spike_times_shrunk = []\n",
    "for trial in spike_times:\n",
    "    spike_times_shrunk.append([])\n",
    "\n",
    "    for sp in trial:\n",
    "        spike_times_shrunk[-1].append(np.asarray(sp,dtype=np.float32))"
   ]
  },
  {
   "cell_type": "code",
   "execution_count": 53,
   "id": "fbeb1ec7",
   "metadata": {},
   "outputs": [],
   "source": [
    "# with open('homework4_spikes.npz', 'wb') as datafile:\n",
    "#     np.savez_compressed(datafile, spike_times=spike_times)\n",
    "# float64 raw data is 28M    \n",
    "\n",
    "with open('homework4_spikes.npz', 'wb') as datafile:\n",
    "    np.savez_compressed(datafile, spike_times=spike_times_shrunk)\n",
    "# float 32 data is 19M  "
   ]
  },
  {
   "cell_type": "code",
   "execution_count": null,
   "id": "380cc877",
   "metadata": {},
   "outputs": [],
   "source": []
  }
 ],
 "metadata": {
  "kernelspec": {
   "display_name": "Python 3 (ipykernel)",
   "language": "python",
   "name": "python3"
  },
  "language_info": {
   "codemirror_mode": {
    "name": "ipython",
    "version": 3
   },
   "file_extension": ".py",
   "mimetype": "text/x-python",
   "name": "python",
   "nbconvert_exporter": "python",
   "pygments_lexer": "ipython3",
   "version": "3.9.13"
  }
 },
 "nbformat": 4,
 "nbformat_minor": 5
}
