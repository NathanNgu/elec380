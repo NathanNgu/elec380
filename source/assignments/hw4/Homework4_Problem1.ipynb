{
 "cells": [
  {
   "cell_type": "code",
   "execution_count": 1,
   "id": "305a0aff",
   "metadata": {},
   "outputs": [],
   "source": [
    "import numpy as np\n",
    "import matplotlib.pyplot as plt\n",
    "import seaborn as sns\n"
   ]
  },
  {
   "cell_type": "code",
   "execution_count": 2,
   "id": "f5bf8ece",
   "metadata": {},
   "outputs": [],
   "source": [
    "with open('homework4_spikes.npz', 'rb') as loadfile:\n",
    "    spike_times = np.load(loadfile, allow_pickle=True)['spike_times']\n",
    "\n",
    "with open('homework4_metadata.npy', 'rb') as loadfile:\n",
    "    metadata = np.load(loadfile)\n",
    "    time_touch_held = metadata['time_touch_held'] # target onset times for each trial\n",
    "    time_go_cue = metadata['time_go_cue'] # go cue time for each trial\n",
    "    time_target_acquired = metadata['time_target_acquired'] # time the target was touched\n",
    "    trial_reach_target = metadata['trial_reach_target'] # index of reach target for each trial (0 through 7)\n",
    "        # note that I've \"fixed\" the reach targets to be 0-7 rather than 1-8\n",
    "    target_locations = metadata['target_locations'] # x,y location of each target\n",
    "    target_angles = metadata['target_angles'] # angle of each target\n"
   ]
  },
  {
   "cell_type": "code",
   "execution_count": 3,
   "id": "3c3f976c",
   "metadata": {},
   "outputs": [
    {
     "data": {
      "text/plain": [
       "array([ 755, 1005])"
      ]
     },
     "execution_count": 3,
     "metadata": {},
     "output_type": "execute_result"
    }
   ],
   "source": [
    "# Verify that there are in fact two different plan period durations\n",
    "np.unique(time_go_cue - time_touch_held)"
   ]
  },
  {
   "cell_type": "code",
   "execution_count": 4,
   "id": "84e4fbb4",
   "metadata": {},
   "outputs": [],
   "source": [
    "def extract_plan_spikes(window_length=None, \n",
    "                        start_offset=None):\n",
    "    # Return a matrix of spike counts in the plan window.\n",
    "    # - The default plan window is defined as the time between\n",
    "    #   time_touch_held and time_go_cue for each trial. NOTE:\n",
    "    #   not all trials have the same duration!!!\n",
    "    # - If a \"window_length\" is specified, return the number\n",
    "    #   of spikes in the window of that duration. Return -1\n",
    "    #   if the available plan period is too short for the window\n",
    "    #   (for example, window_length=1000 but the trial plan\n",
    "    #   period is just 755 ms). \n",
    "    # - If a \"start_offset\" is specified, return the number of\n",
    "    #   spikes in the window defined as starting \"start_offset\"\n",
    "    #   ms after the time_touch_held. (Use either time_go_cue\n",
    "    #   or the optional window_length to determine window end.)\n",
    "    #   If start_offset is so large that it extends past the\n",
    "    #   time_go_cue, return -1.\n",
    "    \n",
    "    if start_offset:\n",
    "        trial_starts = time_touch_held + start_offset\n",
    "    else:\n",
    "        trial_starts = time_touch_held\n",
    "    \n",
    "    plan_spikes = []   \n",
    "    for tx, trialSpikes in enumerate(spike_times):\n",
    "        if window_length:\n",
    "            trial_end = trial_starts[tx] + window_length\n",
    "        else:\n",
    "            trial_end = time_go_cue[tx]\n",
    "        \n",
    "        if (trial_end < trial_starts[tx]) or (trial_end > time_go_cue[tx]):\n",
    "                plan_spikes.append(-np.ones(len(trialSpikes)))\n",
    "        else:\n",
    "            plan_spikes.append(\n",
    "                np.array([np.sum((st > trial_starts[tx]) & \n",
    "                        (st < trial_end)) for st in trialSpikes]))\n",
    "    return np.array(plan_spikes) # will be 1127 x 190 (number of trials by number of neurons)"
   ]
  },
  {
   "cell_type": "code",
   "execution_count": 5,
   "id": "bba6ec37",
   "metadata": {},
   "outputs": [],
   "source": [
    "plan_spikes = extract_plan_spikes()"
   ]
  },
  {
   "cell_type": "code",
   "execution_count": 6,
   "id": "b9e1209d",
   "metadata": {},
   "outputs": [],
   "source": [
    "# select the 755 ms plan period trials for testing\n",
    "short_trials = (time_go_cue - time_touch_held) == 755 # boolean array\n",
    "\n",
    "training_trials = [] # will be 8 lists of trials\n",
    "test_trials = [] # all the leftovers\n",
    "for c in range(8): # reach targets go from 0 to 7\n",
    "    target_trials = np.argwhere(short_trials & (trial_reach_target==c)).squeeze()\n",
    "    # randomly select 25 training trials per direction\n",
    "    random_training_trials = np.random.choice(target_trials, 25, replace=False)\n",
    "    training_trials.append(random_training_trials)\n",
    "    remaining_test_trials = np.setdiff1d(target_trials, random_training_trials)\n",
    "    \n",
    "    test_trials.extend(remaining_test_trials)\n"
   ]
  },
  {
   "cell_type": "code",
   "execution_count": 7,
   "id": "b3cf5878",
   "metadata": {},
   "outputs": [],
   "source": [
    "# Calculate the mean spike counts per neuron for each target\n",
    "num_neurons = plan_spikes.shape[1]\n",
    "mean_spike_counts = np.zeros((num_neurons, 8))\n",
    "for c in range(8):\n",
    "    mean_spike_counts[:,c] = np.mean(plan_spikes[training_trials[c],:], axis=0)\n"
   ]
  },
  {
   "cell_type": "code",
   "execution_count": 8,
   "id": "313a7dcb",
   "metadata": {},
   "outputs": [],
   "source": [
    "def multivariate_poisson_logpdf(mu, x, mean_eps=0.01): \n",
    "    # assume mu is (N,) and x is (d,N)\n",
    "    mu2 = mu\n",
    "    mu2[np.argwhere(mu < mean_eps)] = mean_eps\n",
    "    return np.sum(x * np.log(mu2) - mu2, axis=1)"
   ]
  },
  {
   "cell_type": "code",
   "execution_count": 9,
   "id": "c369b4c6",
   "metadata": {},
   "outputs": [],
   "source": [
    "# Calculate probability for each target and each test trial\n",
    "poisson_likelihood = np.zeros((len(test_trials), 8))    \n",
    "for c in range(8):\n",
    "    m = mean_spike_counts[:,c]\n",
    "    poisson_likelihood[:,c] = \\\n",
    "        multivariate_poisson_logpdf(m, plan_spikes[test_trials,:])\n"
   ]
  },
  {
   "cell_type": "code",
   "execution_count": 10,
   "id": "a9fa7a06",
   "metadata": {},
   "outputs": [
    {
     "name": "stdout",
     "output_type": "stream",
     "text": [
      "Poisson Correct:  0.9478021978021978\n",
      "(364 test trials)\n"
     ]
    }
   ],
   "source": [
    "correct_targets = trial_reach_target[test_trials] # correct target for each trial\n",
    "decoded_targets = np.argmax(poisson_likelihood,axis=1) # decoded target is just the max index\n",
    "print('Poisson Correct: ', np.mean(correct_targets==decoded_targets))\n",
    "print('({} test trials)'.format(len(test_trials)))"
   ]
  },
  {
   "cell_type": "code",
   "execution_count": 12,
   "id": "151d4a67",
   "metadata": {},
   "outputs": [],
   "source": [
    "decode_perf = []\n",
    "for plan_window in np.arange(50,800,50): # (this goes to 750!!!)\n",
    "    plan_spikes = extract_plan_spikes(window_length=plan_window)\n",
    "    decode_perf.append([])\n",
    "    \n",
    "    # Randomly choose training and test data 25 times\n",
    "    for i in range(50): \n",
    "\n",
    "        training_trials = [] # will be 8 lists of trials\n",
    "        test_trials = [] # all the leftovers\n",
    "        for c in range(8): # reach targets go from 0 to 7\n",
    "            target_trials = np.argwhere((trial_reach_target==c)).squeeze()\n",
    "            # randomly select 25 training trials per direction\n",
    "            random_training_trials = np.random.choice(target_trials, 25, replace=False)\n",
    "            training_trials.append(random_training_trials)\n",
    "            remaining_test_trials = np.setdiff1d(target_trials, random_training_trials)\n",
    "\n",
    "            test_trials.extend(remaining_test_trials)\n",
    "\n",
    "        num_neurons = plan_spikes.shape[1]\n",
    "        mean_spike_counts = np.zeros((num_neurons, 8))\n",
    "        for c in range(8):\n",
    "            mean_spike_counts[:,c] = np.mean(plan_spikes[training_trials[c],:], axis=0)\n",
    "\n",
    "        poisson_likelihood = np.zeros((len(test_trials), 8))    \n",
    "        for c in range(8):\n",
    "            m = mean_spike_counts[:,c]\n",
    "            poisson_likelihood[:,c] = \\\n",
    "                multivariate_poisson_logpdf(m, plan_spikes[test_trials,:])\n",
    "            \n",
    "        correct_targets = trial_reach_target[test_trials] # correct target for each trial\n",
    "        decoded_targets = np.argmax(poisson_likelihood,axis=1) # decoded target is just the max index\n",
    "                \n",
    "        # Fill in code here to \n",
    "        #  1) randomly select training and test trials\n",
    "        #  2) calculate mean spike counts using training data\n",
    "        #  3) calculate target likelihoods for test data\n",
    "        #  4) decode by picking the most likely target\n",
    "        \n",
    "        # Assuming that you define the variables \"correct_targets\"\n",
    "        #  and \"decoded_targets\", the follow line calculates\n",
    "        #  the decoding performance for this iteration\n",
    "        decode_perf[-1].append(np.mean(correct_targets==decoded_targets))\n",
    "\n",
    "decode_perf = np.array(decode_perf) # convert to a numpy array"
   ]
  },
  {
   "cell_type": "code",
   "execution_count": 14,
   "id": "e1f0efca",
   "metadata": {},
   "outputs": [
    {
     "data": {
      "text/plain": [
       "[Text(0.5, 0, 'Plan Window Duration'), Text(0, 0.5, 'Decode Accuracy')]"
      ]
     },
     "execution_count": 14,
     "metadata": {},
     "output_type": "execute_result"
    },
    {
     "data": {
      "image/png": "[encoded data removed]",
      "text/plain": [
       "<Figure size 864x864 with 1 Axes>"
      ]
     },
     "metadata": {
      "needs_background": "light"
     },
     "output_type": "display_data"
    }
   ],
   "source": [
    "import pandas as pd\n",
    "fig = plt.figure(figsize=(12,12))\n",
    "ax = sns.violinplot(data=pd.DataFrame(decode_perf.T, \n",
    "                              columns=np.arange(50,800,50)), figsize=(12,12))\n",
    "ax.set(xlabel='Plan Window Duration', ylabel='Decode Accuracy')\n"
   ]
  },
  {
   "cell_type": "code",
   "execution_count": null,
   "id": "cc2df910",
   "metadata": {},
   "outputs": [],
   "source": []
  }
 ],
 "metadata": {
  "kernelspec": {
   "display_name": "Python 3 (ipykernel)",
   "language": "python",
   "name": "python3"
  },
  "language_info": {
   "codemirror_mode": {
    "name": "ipython",
    "version": 3
   },
   "file_extension": ".py",
   "mimetype": "text/x-python",
   "name": "python",
   "nbconvert_exporter": "python",
   "pygments_lexer": "ipython3",
   "version": "3.9.13"
  }
 },
 "nbformat": 4,
 "nbformat_minor": 5
}
